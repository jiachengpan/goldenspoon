{
 "cells": [
  {
   "cell_type": "code",
   "execution_count": 1,
   "metadata": {},
   "outputs": [],
   "source": [
    "import os\n",
    "import pickle\n"
   ]
  },
  {
   "cell_type": "code",
   "execution_count": 2,
   "metadata": {},
   "outputs": [],
   "source": [
    "stock_stats = pickle.load(open('indexed_stock_stats.pkl', 'rb'))"
   ]
  },
  {
   "cell_type": "code",
   "execution_count": 4,
   "metadata": {},
   "outputs": [
    {
     "data": {
      "text/plain": [
       "dict_keys(['date', 'generic'])"
      ]
     },
     "execution_count": 4,
     "metadata": {},
     "output_type": "execute_result"
    }
   ],
   "source": [
    "stock_stats.keys()"
   ]
  },
  {
   "cell_type": "code",
   "execution_count": 10,
   "metadata": {},
   "outputs": [],
   "source": [
    "stock_stats_date = stock_stats['date'].rename({\n",
    "    '日期': 'time',\n",
    "    '证券代码': 'stock_id',\n",
    "    '证券名称': 'stock_name',\n",
    "}, axis=1)\n",
    "\n",
    "stock_stats_generic = stock_stats['generic'].rename({\n",
    "    '日期': 'time',\n",
    "    '证券代码': 'stock_id',\n",
    "    '证券名称': 'stock_name',\n",
    "}, axis=1)\n"
   ]
  },
  {
   "cell_type": "code",
   "execution_count": 29,
   "metadata": {},
   "outputs": [],
   "source": [
    "stock_map   = dict(stock_stats_generic[['stock_id', 'stock_name']].values.tolist())\n",
    "stock_map_r = dict(stock_stats_generic[['stock_name', 'stock_id']].values.tolist())\n",
    "stock_stats_date['stock_name'] = stock_stats_date['stock_id'].map(stock_map)"
   ]
  },
  {
   "cell_type": "code",
   "execution_count": 30,
   "metadata": {},
   "outputs": [],
   "source": [
    "fund_stats = pickle.load(open('indexed_fund_stats.pkl', 'rb'))"
   ]
  },
  {
   "cell_type": "code",
   "execution_count": 31,
   "metadata": {},
   "outputs": [
    {
     "data": {
      "text/plain": [
       "dict_keys(['topn_stocks', 'date', 'generic'])"
      ]
     },
     "execution_count": 31,
     "metadata": {},
     "output_type": "execute_result"
    }
   ],
   "source": [
    "fund_stats.keys()"
   ]
  },
  {
   "cell_type": "code",
   "execution_count": 32,
   "metadata": {},
   "outputs": [],
   "source": [
    "fund_stats_date = fund_stats['date'].rename({\n",
    "    '日期': 'time',\n",
    "    '证券代码': 'fund_id',\n",
    "    '证券名称': 'fund_name',\n",
    "}, axis=1)\n",
    "\n",
    "fund_stats_generic = fund_stats['generic'].rename({\n",
    "    '日期': 'time',\n",
    "    '证券代码': 'fund_id',\n",
    "    '证券名称': 'fund_name',\n",
    "}, axis=1)\n",
    "\n",
    "fund_stats_topn = fund_stats['topn_stocks'].rename({\n",
    "    '日期': 'time',\n",
    "    '基金代码': 'fund_id',\n",
    "    '股票名称': 'stock_name',\n",
    "}, axis=1)"
   ]
  },
  {
   "cell_type": "code",
   "execution_count": 33,
   "metadata": {},
   "outputs": [],
   "source": [
    "fund_map = dict(fund_stats_generic[['fund_id', 'fund_name']].values.tolist())\n",
    "fund_stats_date['fund_name'] = fund_stats_date['fund_id'].map(fund_map)\n",
    "fund_stats_topn['fund_name'] = fund_stats_topn['fund_id'].map(fund_map)\n",
    "fund_stats_topn['stock_id']  = fund_stats_topn['stock_name'].map(stock_map_r)"
   ]
  },
  {
   "cell_type": "code",
   "execution_count": 34,
   "metadata": {},
   "outputs": [
    {
     "data": {
      "text/plain": [
       "Index(['indicator', 'value', 'fund_id', 'date', 'stock_name', 'fund_name',\n",
       "       'stock_id'],\n",
       "      dtype='object')"
      ]
     },
     "execution_count": 34,
     "metadata": {},
     "output_type": "execute_result"
    }
   ],
   "source": [
    "fund_stats_topn.columns"
   ]
  },
  {
   "cell_type": "code",
   "execution_count": 39,
   "metadata": {},
   "outputs": [],
   "source": [
    "stock_stats_date.set_index(['stock_id', 'stock_name', 'time']).to_csv('stock_id.stock_name.time.csv.gz')\n",
    "stock_stats_generic.set_index(['stock_id', 'stock_name']).to_csv('stock_id.stock_name.csv.gz')"
   ]
  },
  {
   "cell_type": "code",
   "execution_count": null,
   "metadata": {},
   "outputs": [],
   "source": [
    "fund_stats_generic.set_index(['fund_id', 'fund_name']) \\\n",
    "    .to_csv('fund_id.fund_name.csv.gz')\n",
    "fund_stats_date.set_index(['fund_id', 'fund_name', 'time']) \\\n",
    "    .to_csv('fund_id.fund_name.time.csv.gz')\n",
    "fund_stats_topn.set_index(['fund_id', 'fund_name', 'time', 'stock_id', 'stock_name']) \\\n",
    "    .to_csv('fund_id.fund_name.time.stock_id.stock_name.csv.gz')"
   ]
  }
 ],
 "metadata": {
  "interpreter": {
   "hash": "1eb87eb7452502a46d3f6c0b2d5433ef7949580f8df321e25bf7dfb9b2eefde0"
  },
  "kernelspec": {
   "display_name": "Python 3.7.6 ('base')",
   "language": "python",
   "name": "python3"
  },
  "language_info": {
   "codemirror_mode": {
    "name": "ipython",
    "version": 3
   },
   "file_extension": ".py",
   "mimetype": "text/x-python",
   "name": "python",
   "nbconvert_exporter": "python",
   "pygments_lexer": "ipython3",
   "version": "3.7.6"
  },
  "orig_nbformat": 4
 },
 "nbformat": 4,
 "nbformat_minor": 2
}
