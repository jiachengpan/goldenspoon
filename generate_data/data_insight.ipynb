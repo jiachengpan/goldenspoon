{
 "cells": [
  {
   "cell_type": "code",
   "execution_count": 14,
   "metadata": {},
   "outputs": [],
   "source": [
    "import pandas as pd\n",
    "import glob\n",
    "import pickle\n",
    "import os\n",
    "import re"
   ]
  },
  {
   "cell_type": "code",
   "execution_count": 20,
   "metadata": {},
   "outputs": [
    {
     "name": "stdout",
     "output_type": "stream",
     "text": [
      "indicators.2020-03-31 - (30, 31)\n",
      "indicators.2020-06-30 - (1013, 31)\n",
      "indicators.2020-09-30 - (341, 31)\n",
      "indicators.2020-12-31 - (132, 31)\n",
      "indicators.2021-03-31 - (194, 31)\n",
      "indicators.2021-06-30 - (72, 31)\n",
      "indicators.2021-09-30 - (1224, 31)\n",
      "indicators.2021-12-31 - (0, 31)\n",
      "--------------------\n",
      "indicators.2020-09-30 - (45, 31)\n",
      "indicators.2020-12-31 - (558, 31)\n",
      "indicators.2021-03-31 - (558, 31)\n",
      "indicators.2021-06-30 - (665, 31)\n",
      "indicators.2021-09-30 - (853, 31)\n"
     ]
    }
   ],
   "source": [
    "def print_indicator_impression(data_path):\n",
    "    for file in sorted(glob.glob(os.path.join(data_path, 'indicators.*.pickle'))):\n",
    "        df = pickle.load(open(file, 'rb'))\n",
    "        name = os.path.splitext(os.path.basename(file))[0]\n",
    "        print(f'{name:20s} - {df.shape}')\n",
    "\n",
    "print_indicator_impression('data/thres_10')\n",
    "print('-' * 20)\n",
    "print_indicator_impression('../../goldenspoon2/linear_regression/regress_data/past_quater_/')\n"
   ]
  },
  {
   "cell_type": "code",
   "execution_count": 22,
   "metadata": {},
   "outputs": [],
   "source": [
    "df = pd.read_pickle('downloads/raw_data.pkl')"
   ]
  },
  {
   "cell_type": "code",
   "execution_count": 27,
   "metadata": {},
   "outputs": [
    {
     "name": "stdout",
     "output_type": "stream",
     "text": [
      "<class 'pandas.core.frame.DataFrame'>\n",
      "MultiIndex: 277132 entries, ('000001.SZ', '平安银行', datetime.date(2018, 1, 31)) to ('872925.BJ', '锦好医疗', datetime.date(2022, 12, 31))\n",
      "Data columns (total 16 columns):\n",
      " #   Column                        Non-Null Count   Dtype  \n",
      "---  ------                        --------------   -----  \n",
      " 0   区间日均总市值 [起始交易日期]截止日3月前 [单位]元  63182 non-null   float64\n",
      " 1   基金持股数量 [单位]股                  42842 non-null   float64\n",
      " 2   基金持股比例 [单位]% [比例类型]占流通股比例     42756 non-null   float64\n",
      " 3   市盈率(PE,TTM)                   63150 non-null   float64\n",
      " 4   当月成交均价 [复权方式]前复权              62286 non-null   float64\n",
      " 5   持股基金家数 [股本类型]流通股本             42653 non-null   float64\n",
      " 6   月振幅 [单位]%                     244818 non-null  float64\n",
      " 7   月换手率 [单位]%                    243275 non-null  float64\n",
      " 8   月收盘价 [复权方式]前复权                244818 non-null  float64\n",
      " 9   机构持股比例合计 [单位]% [比例类型]占流通股比例   58426 non-null   float64\n",
      " 10  流通股本 [单位]股                    70099 non-null   float64\n",
      " 11  社保基金持股比例 [单位]% [比例类型]占流通股比例   7279 non-null    float64\n",
      " 12  股票规模指标                        63145 non-null   object \n",
      " 13  股票风格分类                        63145 non-null   object \n",
      " 14  自由流通市值 [单位]元                  61893 non-null   float64\n",
      " 15  融资融券差额 [单位]元                  73934 non-null   float64\n",
      "dtypes: float64(14), object(2)\n",
      "memory usage: 35.5+ MB\n"
     ]
    }
   ],
   "source": [
    "df[('stock_id', 'stock_name', 'time')].info()\n"
   ]
  },
  {
   "cell_type": "code",
   "execution_count": 12,
   "metadata": {},
   "outputs": [
    {
     "name": "stdout",
     "output_type": "stream",
     "text": [
      "/home/scratch/jiacheng/projects/trading/goldenspoon/generate_data\n"
     ]
    }
   ],
   "source": [
    "!pwd"
   ]
  },
  {
   "cell_type": "code",
   "execution_count": null,
   "metadata": {},
   "outputs": [],
   "source": []
  }
 ],
 "metadata": {
  "interpreter": {
   "hash": "34bce874eac33230d5c7d167b32cd89d5c9f1b3d4ba32c2e50ed596704efbf20"
  },
  "kernelspec": {
   "display_name": "Python 3.7.3 64-bit ('env_jupyter': virtualenv)",
   "language": "python",
   "name": "python3"
  },
  "language_info": {
   "codemirror_mode": {
    "name": "ipython",
    "version": 3
   },
   "file_extension": ".py",
   "mimetype": "text/x-python",
   "name": "python",
   "nbconvert_exporter": "python",
   "pygments_lexer": "ipython3",
   "version": "3.7.6"
  },
  "orig_nbformat": 4
 },
 "nbformat": 4,
 "nbformat_minor": 2
}
