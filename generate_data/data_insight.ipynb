{
 "cells": [
  {
   "cell_type": "code",
   "execution_count": 28,
   "metadata": {},
   "outputs": [],
   "source": [
    "import pandas as pd\n",
    "import glob\n",
    "import pickle\n",
    "import os"
   ]
  },
  {
   "cell_type": "markdown",
   "metadata": {},
   "source": [
    "This is the original data shape\n",
    "```\n",
    "indicators.2020-09-30 - (45, 31)\n",
    "indicators.2020-12-31 - (558, 31)\n",
    "indicators.2021-03-31 - (558, 31)\n",
    "indicators.2021-06-30 - (665, 31)\n",
    "indicators.2021-09-30 - (853, 31)\n",
    "```"
   ]
  },
  {
   "cell_type": "code",
   "execution_count": 32,
   "metadata": {},
   "outputs": [
    {
     "name": "stdout",
     "output_type": "stream",
     "text": [
      "data/thres_inf/indicators.2020-03-31 - (1051, 31)\n",
      "data/thres_inf/indicators.2020-06-30 - (1355, 31)\n",
      "data/thres_inf/indicators.2020-09-30 - (1424, 31)\n",
      "data/thres_inf/indicators.2020-12-31 - (1652, 31)\n",
      "data/thres_inf/indicators.2021-03-31 - (1475, 31)\n",
      "data/thres_inf/indicators.2021-06-30 - (1772, 31)\n",
      "data/thres_inf/indicators.2021-09-30 - (1553, 31)\n",
      "data/thres_inf/indicators.2021-12-31 - (1547, 31)\n"
     ]
    }
   ],
   "source": [
    "def print_indicator_impression(data_path):\n",
    "    for file in sorted(glob.glob(os.path.join(data_path, '**/indicators.*.pickle'))):\n",
    "        df = pickle.load(open(file, 'rb'))\n",
    "        name = os.path.splitext(file)[0]\n",
    "        print(f'{name:20s} - {df.shape}')\n",
    "\n",
    "print_indicator_impression('data')\n"
   ]
  },
  {
   "cell_type": "code",
   "execution_count": null,
   "metadata": {},
   "outputs": [],
   "source": []
  }
 ],
 "metadata": {
  "interpreter": {
   "hash": "34bce874eac33230d5c7d167b32cd89d5c9f1b3d4ba32c2e50ed596704efbf20"
  },
  "kernelspec": {
   "display_name": "Python 3.7.3 64-bit ('env_jupyter': virtualenv)",
   "language": "python",
   "name": "python3"
  },
  "language_info": {
   "codemirror_mode": {
    "name": "ipython",
    "version": 3
   },
   "file_extension": ".py",
   "mimetype": "text/x-python",
   "name": "python",
   "nbconvert_exporter": "python",
   "pygments_lexer": "ipython3",
   "version": "3.7.6"
  },
  "orig_nbformat": 4
 },
 "nbformat": 4,
 "nbformat_minor": 2
}
